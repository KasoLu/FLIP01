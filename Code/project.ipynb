{
 "nbformat": 4,
 "nbformat_minor": 2,
 "metadata": {
  "language_info": {
   "name": "python",
   "codemirror_mode": {
    "name": "ipython",
    "version": 3
   },
   "version": "3.7.4-final"
  },
  "orig_nbformat": 2,
  "file_extension": ".py",
  "mimetype": "text/x-python",
  "name": "python",
  "npconvert_exporter": "python",
  "pygments_lexer": "ipython3",
  "version": 3,
  "kernelspec": {
   "name": "python37464bit822e4b58c40f45468b1fb2a2a6f01882",
   "display_name": "Python 3.7.4 64-bit"
  }
 },
 "cells": [
  {
   "cell_type": "code",
   "execution_count": 1,
   "metadata": {},
   "outputs": [
    {
     "name": "stdout",
     "output_type": "stream",
     "text": "������ C �еľ��� Local Disk\n �������к��� 025D-76D5\n\n c:\\Users\\rukam\\source\\repos\\FLIP01\\Code ��Ŀ¼\n\n2020/01/14  23:02    <DIR>          .\n2020/01/14  23:02    <DIR>          ..\n2020/01/06  20:27                 0 project.ipynb\n2020/01/07  15:38         4,154,855 start-from-here-quest-complete-eda-fe.ipynb\n2020/01/14  23:17             4,921 ti.ipynb\n               3 ���ļ�      4,159,776 �ֽ�\n               2 ��Ŀ¼ 31,974,793,216 �����ֽ�\n"
    }
   ],
   "source": [
    "#data:kaggle competitions download -c google-quest-challenge\n",
    "%ls"
   ]
  },
  {
   "cell_type": "code",
   "execution_count": 19,
   "metadata": {},
   "outputs": [],
   "source": [
    "import numpy as np\n",
    "import pandas as pd\n",
    "import seaborn as sns\n",
    "from scipy import stats\n",
    "import matplotlib.pyplot as plt\n",
    "%matplotlib inline"
   ]
  },
  {
   "cell_type": "code",
   "execution_count": 4,
   "metadata": {},
   "outputs": [
    {
     "ename": "FileNotFoundError",
     "evalue": "[Errno 2] File b'Data/train.csv' does not exist: b'Data/train.csv'",
     "output_type": "error",
     "traceback": [
      "\u001b[1;31m---------------------------------------------------------------------------\u001b[0m",
      "\u001b[1;31mFileNotFoundError\u001b[0m                         Traceback (most recent call last)",
      "\u001b[1;32m<ipython-input-4-ca3bc62d3867>\u001b[0m in \u001b[0;36m<module>\u001b[1;34m\u001b[0m\n\u001b[1;32m----> 1\u001b[1;33m \u001b[0mtrain_set\u001b[0m \u001b[1;33m=\u001b[0m \u001b[0mpd\u001b[0m\u001b[1;33m.\u001b[0m\u001b[0mread_csv\u001b[0m\u001b[1;33m(\u001b[0m\u001b[1;34m'Data/train.csv'\u001b[0m\u001b[1;33m)\u001b[0m\u001b[1;33m\u001b[0m\u001b[1;33m\u001b[0m\u001b[0m\n\u001b[0m\u001b[0;32m      2\u001b[0m \u001b[0mtest_set\u001b[0m \u001b[1;33m=\u001b[0m  \u001b[0mpd\u001b[0m\u001b[1;33m.\u001b[0m\u001b[0mread_csv\u001b[0m\u001b[1;33m(\u001b[0m\u001b[1;34m'Data/test.csv'\u001b[0m\u001b[1;33m)\u001b[0m\u001b[1;33m\u001b[0m\u001b[1;33m\u001b[0m\u001b[0m\n\u001b[0;32m      3\u001b[0m \u001b[0msubmmistion\u001b[0m\u001b[1;33m=\u001b[0m\u001b[0mpd\u001b[0m\u001b[1;33m.\u001b[0m\u001b[0mread_csv\u001b[0m\u001b[1;33m(\u001b[0m\u001b[1;34m'Data/sample_submission.csv'\u001b[0m\u001b[1;33m)\u001b[0m\u001b[1;33m\u001b[0m\u001b[1;33m\u001b[0m\u001b[0m\n",
      "\u001b[1;32mC:\\Program Files (x86)\\Microsoft Visual Studio\\Shared\\Python37_64\\lib\\site-packages\\pandas\\io\\parsers.py\u001b[0m in \u001b[0;36mparser_f\u001b[1;34m(filepath_or_buffer, sep, delimiter, header, names, index_col, usecols, squeeze, prefix, mangle_dupe_cols, dtype, engine, converters, true_values, false_values, skipinitialspace, skiprows, skipfooter, nrows, na_values, keep_default_na, na_filter, verbose, skip_blank_lines, parse_dates, infer_datetime_format, keep_date_col, date_parser, dayfirst, cache_dates, iterator, chunksize, compression, thousands, decimal, lineterminator, quotechar, quoting, doublequote, escapechar, comment, encoding, dialect, error_bad_lines, warn_bad_lines, delim_whitespace, low_memory, memory_map, float_precision)\u001b[0m\n\u001b[0;32m    683\u001b[0m         )\n\u001b[0;32m    684\u001b[0m \u001b[1;33m\u001b[0m\u001b[0m\n\u001b[1;32m--> 685\u001b[1;33m         \u001b[1;32mreturn\u001b[0m \u001b[0m_read\u001b[0m\u001b[1;33m(\u001b[0m\u001b[0mfilepath_or_buffer\u001b[0m\u001b[1;33m,\u001b[0m \u001b[0mkwds\u001b[0m\u001b[1;33m)\u001b[0m\u001b[1;33m\u001b[0m\u001b[1;33m\u001b[0m\u001b[0m\n\u001b[0m\u001b[0;32m    686\u001b[0m \u001b[1;33m\u001b[0m\u001b[0m\n\u001b[0;32m    687\u001b[0m     \u001b[0mparser_f\u001b[0m\u001b[1;33m.\u001b[0m\u001b[0m__name__\u001b[0m \u001b[1;33m=\u001b[0m \u001b[0mname\u001b[0m\u001b[1;33m\u001b[0m\u001b[1;33m\u001b[0m\u001b[0m\n",
      "\u001b[1;32mC:\\Program Files (x86)\\Microsoft Visual Studio\\Shared\\Python37_64\\lib\\site-packages\\pandas\\io\\parsers.py\u001b[0m in \u001b[0;36m_read\u001b[1;34m(filepath_or_buffer, kwds)\u001b[0m\n\u001b[0;32m    455\u001b[0m \u001b[1;33m\u001b[0m\u001b[0m\n\u001b[0;32m    456\u001b[0m     \u001b[1;31m# Create the parser.\u001b[0m\u001b[1;33m\u001b[0m\u001b[1;33m\u001b[0m\u001b[1;33m\u001b[0m\u001b[0m\n\u001b[1;32m--> 457\u001b[1;33m     \u001b[0mparser\u001b[0m \u001b[1;33m=\u001b[0m \u001b[0mTextFileReader\u001b[0m\u001b[1;33m(\u001b[0m\u001b[0mfp_or_buf\u001b[0m\u001b[1;33m,\u001b[0m \u001b[1;33m**\u001b[0m\u001b[0mkwds\u001b[0m\u001b[1;33m)\u001b[0m\u001b[1;33m\u001b[0m\u001b[1;33m\u001b[0m\u001b[0m\n\u001b[0m\u001b[0;32m    458\u001b[0m \u001b[1;33m\u001b[0m\u001b[0m\n\u001b[0;32m    459\u001b[0m     \u001b[1;32mif\u001b[0m \u001b[0mchunksize\u001b[0m \u001b[1;32mor\u001b[0m \u001b[0miterator\u001b[0m\u001b[1;33m:\u001b[0m\u001b[1;33m\u001b[0m\u001b[1;33m\u001b[0m\u001b[0m\n",
      "\u001b[1;32mC:\\Program Files (x86)\\Microsoft Visual Studio\\Shared\\Python37_64\\lib\\site-packages\\pandas\\io\\parsers.py\u001b[0m in \u001b[0;36m__init__\u001b[1;34m(self, f, engine, **kwds)\u001b[0m\n\u001b[0;32m    893\u001b[0m             \u001b[0mself\u001b[0m\u001b[1;33m.\u001b[0m\u001b[0moptions\u001b[0m\u001b[1;33m[\u001b[0m\u001b[1;34m\"has_index_names\"\u001b[0m\u001b[1;33m]\u001b[0m \u001b[1;33m=\u001b[0m \u001b[0mkwds\u001b[0m\u001b[1;33m[\u001b[0m\u001b[1;34m\"has_index_names\"\u001b[0m\u001b[1;33m]\u001b[0m\u001b[1;33m\u001b[0m\u001b[1;33m\u001b[0m\u001b[0m\n\u001b[0;32m    894\u001b[0m \u001b[1;33m\u001b[0m\u001b[0m\n\u001b[1;32m--> 895\u001b[1;33m         \u001b[0mself\u001b[0m\u001b[1;33m.\u001b[0m\u001b[0m_make_engine\u001b[0m\u001b[1;33m(\u001b[0m\u001b[0mself\u001b[0m\u001b[1;33m.\u001b[0m\u001b[0mengine\u001b[0m\u001b[1;33m)\u001b[0m\u001b[1;33m\u001b[0m\u001b[1;33m\u001b[0m\u001b[0m\n\u001b[0m\u001b[0;32m    896\u001b[0m \u001b[1;33m\u001b[0m\u001b[0m\n\u001b[0;32m    897\u001b[0m     \u001b[1;32mdef\u001b[0m \u001b[0mclose\u001b[0m\u001b[1;33m(\u001b[0m\u001b[0mself\u001b[0m\u001b[1;33m)\u001b[0m\u001b[1;33m:\u001b[0m\u001b[1;33m\u001b[0m\u001b[1;33m\u001b[0m\u001b[0m\n",
      "\u001b[1;32mC:\\Program Files (x86)\\Microsoft Visual Studio\\Shared\\Python37_64\\lib\\site-packages\\pandas\\io\\parsers.py\u001b[0m in \u001b[0;36m_make_engine\u001b[1;34m(self, engine)\u001b[0m\n\u001b[0;32m   1133\u001b[0m     \u001b[1;32mdef\u001b[0m \u001b[0m_make_engine\u001b[0m\u001b[1;33m(\u001b[0m\u001b[0mself\u001b[0m\u001b[1;33m,\u001b[0m \u001b[0mengine\u001b[0m\u001b[1;33m=\u001b[0m\u001b[1;34m\"c\"\u001b[0m\u001b[1;33m)\u001b[0m\u001b[1;33m:\u001b[0m\u001b[1;33m\u001b[0m\u001b[1;33m\u001b[0m\u001b[0m\n\u001b[0;32m   1134\u001b[0m         \u001b[1;32mif\u001b[0m \u001b[0mengine\u001b[0m \u001b[1;33m==\u001b[0m \u001b[1;34m\"c\"\u001b[0m\u001b[1;33m:\u001b[0m\u001b[1;33m\u001b[0m\u001b[1;33m\u001b[0m\u001b[0m\n\u001b[1;32m-> 1135\u001b[1;33m             \u001b[0mself\u001b[0m\u001b[1;33m.\u001b[0m\u001b[0m_engine\u001b[0m \u001b[1;33m=\u001b[0m \u001b[0mCParserWrapper\u001b[0m\u001b[1;33m(\u001b[0m\u001b[0mself\u001b[0m\u001b[1;33m.\u001b[0m\u001b[0mf\u001b[0m\u001b[1;33m,\u001b[0m \u001b[1;33m**\u001b[0m\u001b[0mself\u001b[0m\u001b[1;33m.\u001b[0m\u001b[0moptions\u001b[0m\u001b[1;33m)\u001b[0m\u001b[1;33m\u001b[0m\u001b[1;33m\u001b[0m\u001b[0m\n\u001b[0m\u001b[0;32m   1136\u001b[0m         \u001b[1;32melse\u001b[0m\u001b[1;33m:\u001b[0m\u001b[1;33m\u001b[0m\u001b[1;33m\u001b[0m\u001b[0m\n\u001b[0;32m   1137\u001b[0m             \u001b[1;32mif\u001b[0m \u001b[0mengine\u001b[0m \u001b[1;33m==\u001b[0m \u001b[1;34m\"python\"\u001b[0m\u001b[1;33m:\u001b[0m\u001b[1;33m\u001b[0m\u001b[1;33m\u001b[0m\u001b[0m\n",
      "\u001b[1;32mC:\\Program Files (x86)\\Microsoft Visual Studio\\Shared\\Python37_64\\lib\\site-packages\\pandas\\io\\parsers.py\u001b[0m in \u001b[0;36m__init__\u001b[1;34m(self, src, **kwds)\u001b[0m\n\u001b[0;32m   1915\u001b[0m         \u001b[0mkwds\u001b[0m\u001b[1;33m[\u001b[0m\u001b[1;34m\"usecols\"\u001b[0m\u001b[1;33m]\u001b[0m \u001b[1;33m=\u001b[0m \u001b[0mself\u001b[0m\u001b[1;33m.\u001b[0m\u001b[0musecols\u001b[0m\u001b[1;33m\u001b[0m\u001b[1;33m\u001b[0m\u001b[0m\n\u001b[0;32m   1916\u001b[0m \u001b[1;33m\u001b[0m\u001b[0m\n\u001b[1;32m-> 1917\u001b[1;33m         \u001b[0mself\u001b[0m\u001b[1;33m.\u001b[0m\u001b[0m_reader\u001b[0m \u001b[1;33m=\u001b[0m \u001b[0mparsers\u001b[0m\u001b[1;33m.\u001b[0m\u001b[0mTextReader\u001b[0m\u001b[1;33m(\u001b[0m\u001b[0msrc\u001b[0m\u001b[1;33m,\u001b[0m \u001b[1;33m**\u001b[0m\u001b[0mkwds\u001b[0m\u001b[1;33m)\u001b[0m\u001b[1;33m\u001b[0m\u001b[1;33m\u001b[0m\u001b[0m\n\u001b[0m\u001b[0;32m   1918\u001b[0m         \u001b[0mself\u001b[0m\u001b[1;33m.\u001b[0m\u001b[0munnamed_cols\u001b[0m \u001b[1;33m=\u001b[0m \u001b[0mself\u001b[0m\u001b[1;33m.\u001b[0m\u001b[0m_reader\u001b[0m\u001b[1;33m.\u001b[0m\u001b[0munnamed_cols\u001b[0m\u001b[1;33m\u001b[0m\u001b[1;33m\u001b[0m\u001b[0m\n\u001b[0;32m   1919\u001b[0m \u001b[1;33m\u001b[0m\u001b[0m\n",
      "\u001b[1;32mpandas\\_libs\\parsers.pyx\u001b[0m in \u001b[0;36mpandas._libs.parsers.TextReader.__cinit__\u001b[1;34m()\u001b[0m\n",
      "\u001b[1;32mpandas\\_libs\\parsers.pyx\u001b[0m in \u001b[0;36mpandas._libs.parsers.TextReader._setup_parser_source\u001b[1;34m()\u001b[0m\n",
      "\u001b[1;31mFileNotFoundError\u001b[0m: [Errno 2] File b'Data/train.csv' does not exist: b'Data/train.csv'"
     ]
    }
   ],
   "source": [
    "train_set = pd.read_csv('Data/train.csv')\n",
    "test_set =  pd.read_csv('Data/test.csv')\n",
    "submmistion=pd.read_csv('Data/sample_submission.csv')"
   ]
  },
  {
   "cell_type": "code",
   "execution_count": 17,
   "metadata": {},
   "outputs": [],
   "source": [
    "def get_entropy(df, round_val=3):\n",
    "    result = []\n",
    "    for col in df.columns:\n",
    "        data = df[col].value_counts(normalize=True)\n",
    "        result.append(round(stats.entropy(data, base=2), round_val))\n",
    "    return result\n",
    "def get_summary(df, cols=None):\n",
    "    summary = pd.DataFrame()\n",
    "    vcs = pd.DataFrame()\n",
    "    if cols == None:\n",
    "        cols = df.columns.values\n",
    "    summary['Name'] = cols\n",
    "    summary['dtype'] = df[cols].dtypes.values\n",
    "    summary['Unique'] = df[cols].nunique().values\n",
    "    summary['Missing'] = df[cols].isnull().sum().values\n",
    "    summary['Mode'] = df[cols].mode().iloc[0].values\n",
    "    summary['Mode Freq'] = df[cols].apply(lambda ser:pd.value_counts(ser, normalize=True).values[0]).values\n",
    "    summary['Entropy'] = get_entropy(df[cols])\n",
    "    return summary"
   ]
  },
  {
   "cell_type": "code",
   "execution_count": 5,
   "metadata": {},
   "outputs": [],
   "source": [
    "train_set = pd.read_csv('../Data/train.csv')\n",
    "test_set =  pd.read_csv('../Data/test.csv')\n",
    "submmistion=pd.read_csv('../Data/sample_submission.csv')"
   ]
  },
  {
   "cell_type": "code",
   "execution_count": 13,
   "metadata": {},
   "outputs": [],
   "source": [
    "data_cols = train_set.columns[:11]\n",
    "target_cols = train_set.columns[11:]"
   ]
  },
  {
   "cell_type": "code",
   "execution_count": 14,
   "metadata": {},
   "outputs": [
    {
     "data": {
      "text/plain": "Index(['qa_id', 'question_title', 'question_body', 'question_user_name',\n       'question_user_page', 'answer', 'answer_user_name', 'answer_user_page',\n       'url', 'category', 'host'],\n      dtype='object')"
     },
     "execution_count": 14,
     "metadata": {},
     "output_type": "execute_result"
    }
   ],
   "source": [
    "data_cols"
   ]
  },
  {
   "cell_type": "code",
   "execution_count": 20,
   "metadata": {},
   "outputs": [
    {
     "data": {
      "text/html": "<div>\n<style scoped>\n    .dataframe tbody tr th:only-of-type {\n        vertical-align: middle;\n    }\n\n    .dataframe tbody tr th {\n        vertical-align: top;\n    }\n\n    .dataframe thead th {\n        text-align: right;\n    }\n</style>\n<table border=\"1\" class=\"dataframe\">\n  <thead>\n    <tr style=\"text-align: right;\">\n      <th></th>\n      <th>Name</th>\n      <th>dtype</th>\n      <th>Unique</th>\n      <th>Missing</th>\n      <th>Mode</th>\n      <th>Mode Freq</th>\n      <th>Entropy</th>\n    </tr>\n  </thead>\n  <tbody>\n    <tr>\n      <td>0</td>\n      <td>qa_id</td>\n      <td>int64</td>\n      <td>6079</td>\n      <td>0</td>\n      <td>0</td>\n      <td>0.000165</td>\n      <td>12.570</td>\n    </tr>\n    <tr>\n      <td>1</td>\n      <td>question_title</td>\n      <td>object</td>\n      <td>3583</td>\n      <td>0</td>\n      <td>What is the best introductory Bayesian statist...</td>\n      <td>0.001974</td>\n      <td>11.641</td>\n    </tr>\n    <tr>\n      <td>2</td>\n      <td>question_body</td>\n      <td>object</td>\n      <td>3583</td>\n      <td>0</td>\n      <td>Which is the best introductory textbook for Ba...</td>\n      <td>0.001974</td>\n      <td>11.641</td>\n    </tr>\n    <tr>\n      <td>3</td>\n      <td>question_user_name</td>\n      <td>object</td>\n      <td>3215</td>\n      <td>0</td>\n      <td>Mike</td>\n      <td>0.002468</td>\n      <td>11.420</td>\n    </tr>\n    <tr>\n      <td>4</td>\n      <td>question_user_page</td>\n      <td>object</td>\n      <td>3422</td>\n      <td>0</td>\n      <td>https://stats.stackexchange.com/users/5</td>\n      <td>0.001974</td>\n      <td>11.557</td>\n    </tr>\n    <tr>\n      <td>5</td>\n      <td>answer</td>\n      <td>object</td>\n      <td>6079</td>\n      <td>0</td>\n      <td>\\n\\nPrint it and give it to your teacher. Or s...</td>\n      <td>0.000165</td>\n      <td>12.570</td>\n    </tr>\n    <tr>\n      <td>6</td>\n      <td>answer_user_name</td>\n      <td>object</td>\n      <td>4114</td>\n      <td>0</td>\n      <td>Scott</td>\n      <td>0.003290</td>\n      <td>11.678</td>\n    </tr>\n    <tr>\n      <td>7</td>\n      <td>answer_user_page</td>\n      <td>object</td>\n      <td>4430</td>\n      <td>0</td>\n      <td>https://tex.stackexchange.com/users/4427</td>\n      <td>0.002797</td>\n      <td>11.846</td>\n    </tr>\n    <tr>\n      <td>8</td>\n      <td>url</td>\n      <td>object</td>\n      <td>3583</td>\n      <td>0</td>\n      <td>http://stats.stackexchange.com/questions/125/w...</td>\n      <td>0.001974</td>\n      <td>11.641</td>\n    </tr>\n    <tr>\n      <td>9</td>\n      <td>category</td>\n      <td>object</td>\n      <td>5</td>\n      <td>0</td>\n      <td>TECHNOLOGY</td>\n      <td>0.401546</td>\n      <td>2.144</td>\n    </tr>\n    <tr>\n      <td>10</td>\n      <td>host</td>\n      <td>object</td>\n      <td>63</td>\n      <td>0</td>\n      <td>stackoverflow.com</td>\n      <td>0.206119</td>\n      <td>5.183</td>\n    </tr>\n  </tbody>\n</table>\n</div>",
      "text/plain": "                  Name   dtype  Unique  Missing  \\\n0                qa_id   int64    6079        0   \n1       question_title  object    3583        0   \n2        question_body  object    3583        0   \n3   question_user_name  object    3215        0   \n4   question_user_page  object    3422        0   \n5               answer  object    6079        0   \n6     answer_user_name  object    4114        0   \n7     answer_user_page  object    4430        0   \n8                  url  object    3583        0   \n9             category  object       5        0   \n10                host  object      63        0   \n\n                                                 Mode  Mode Freq  Entropy  \n0                                                   0   0.000165   12.570  \n1   What is the best introductory Bayesian statist...   0.001974   11.641  \n2   Which is the best introductory textbook for Ba...   0.001974   11.641  \n3                                                Mike   0.002468   11.420  \n4             https://stats.stackexchange.com/users/5   0.001974   11.557  \n5   \\n\\nPrint it and give it to your teacher. Or s...   0.000165   12.570  \n6                                               Scott   0.003290   11.678  \n7            https://tex.stackexchange.com/users/4427   0.002797   11.846  \n8   http://stats.stackexchange.com/questions/125/w...   0.001974   11.641  \n9                                          TECHNOLOGY   0.401546    2.144  \n10                                  stackoverflow.com   0.206119    5.183  "
     },
     "execution_count": 20,
     "metadata": {},
     "output_type": "execute_result"
    }
   ],
   "source": [
    "summary_data = get_summary(train_set[data_cols])\n",
    "summary_data"
   ]
  },
  {
   "cell_type": "code",
   "execution_count": 21,
   "metadata": {},
   "outputs": [
    {
     "data": {
      "text/html": "<div>\n<style scoped>\n    .dataframe tbody tr th:only-of-type {\n        vertical-align: middle;\n    }\n\n    .dataframe tbody tr th {\n        vertical-align: top;\n    }\n\n    .dataframe thead th {\n        text-align: right;\n    }\n</style>\n<table border=\"1\" class=\"dataframe\">\n  <thead>\n    <tr style=\"text-align: right;\">\n      <th></th>\n      <th>Name</th>\n      <th>dtype</th>\n      <th>Unique</th>\n      <th>Missing</th>\n      <th>Mode</th>\n      <th>Mode Freq</th>\n      <th>Entropy</th>\n    </tr>\n  </thead>\n  <tbody>\n    <tr>\n      <td>0</td>\n      <td>question_asker_intent_understanding</td>\n      <td>float64</td>\n      <td>9</td>\n      <td>0</td>\n      <td>1.000000</td>\n      <td>0.466031</td>\n      <td>2.020</td>\n    </tr>\n    <tr>\n      <td>1</td>\n      <td>question_body_critical</td>\n      <td>float64</td>\n      <td>9</td>\n      <td>0</td>\n      <td>0.333333</td>\n      <td>0.247738</td>\n      <td>2.839</td>\n    </tr>\n    <tr>\n      <td>2</td>\n      <td>question_conversational</td>\n      <td>float64</td>\n      <td>5</td>\n      <td>0</td>\n      <td>0.000000</td>\n      <td>0.889785</td>\n      <td>0.673</td>\n    </tr>\n    <tr>\n      <td>3</td>\n      <td>question_expect_short_answer</td>\n      <td>float64</td>\n      <td>5</td>\n      <td>0</td>\n      <td>1.000000</td>\n      <td>0.482974</td>\n      <td>1.958</td>\n    </tr>\n    <tr>\n      <td>4</td>\n      <td>question_fact_seeking</td>\n      <td>float64</td>\n      <td>5</td>\n      <td>0</td>\n      <td>1.000000</td>\n      <td>0.572463</td>\n      <td>1.647</td>\n    </tr>\n    <tr>\n      <td>5</td>\n      <td>question_has_commonly_accepted_answer</td>\n      <td>float64</td>\n      <td>5</td>\n      <td>0</td>\n      <td>1.000000</td>\n      <td>0.669683</td>\n      <td>1.524</td>\n    </tr>\n    <tr>\n      <td>6</td>\n      <td>question_interestingness_others</td>\n      <td>float64</td>\n      <td>9</td>\n      <td>0</td>\n      <td>0.666667</td>\n      <td>0.301201</td>\n      <td>2.462</td>\n    </tr>\n    <tr>\n      <td>7</td>\n      <td>question_interestingness_self</td>\n      <td>float64</td>\n      <td>9</td>\n      <td>0</td>\n      <td>0.333333</td>\n      <td>0.349400</td>\n      <td>2.559</td>\n    </tr>\n    <tr>\n      <td>8</td>\n      <td>question_multi_intent</td>\n      <td>float64</td>\n      <td>5</td>\n      <td>0</td>\n      <td>0.000000</td>\n      <td>0.594999</td>\n      <td>1.666</td>\n    </tr>\n    <tr>\n      <td>9</td>\n      <td>question_not_really_a_question</td>\n      <td>float64</td>\n      <td>5</td>\n      <td>0</td>\n      <td>0.000000</td>\n      <td>0.989143</td>\n      <td>0.100</td>\n    </tr>\n    <tr>\n      <td>10</td>\n      <td>question_opinion_seeking</td>\n      <td>float64</td>\n      <td>5</td>\n      <td>0</td>\n      <td>0.000000</td>\n      <td>0.323079</td>\n      <td>2.096</td>\n    </tr>\n    <tr>\n      <td>11</td>\n      <td>question_type_choice</td>\n      <td>float64</td>\n      <td>5</td>\n      <td>0</td>\n      <td>0.000000</td>\n      <td>0.553216</td>\n      <td>1.762</td>\n    </tr>\n    <tr>\n      <td>12</td>\n      <td>question_type_compare</td>\n      <td>float64</td>\n      <td>5</td>\n      <td>0</td>\n      <td>0.000000</td>\n      <td>0.929758</td>\n      <td>0.480</td>\n    </tr>\n    <tr>\n      <td>13</td>\n      <td>question_type_consequence</td>\n      <td>float64</td>\n      <td>5</td>\n      <td>0</td>\n      <td>0.000000</td>\n      <td>0.978450</td>\n      <td>0.180</td>\n    </tr>\n    <tr>\n      <td>14</td>\n      <td>question_type_definition</td>\n      <td>float64</td>\n      <td>5</td>\n      <td>0</td>\n      <td>0.000000</td>\n      <td>0.943412</td>\n      <td>0.403</td>\n    </tr>\n    <tr>\n      <td>15</td>\n      <td>question_type_entity</td>\n      <td>float64</td>\n      <td>5</td>\n      <td>0</td>\n      <td>0.000000</td>\n      <td>0.879750</td>\n      <td>0.726</td>\n    </tr>\n    <tr>\n      <td>16</td>\n      <td>question_type_instructions</td>\n      <td>float64</td>\n      <td>5</td>\n      <td>0</td>\n      <td>0.000000</td>\n      <td>0.357131</td>\n      <td>1.984</td>\n    </tr>\n    <tr>\n      <td>17</td>\n      <td>question_type_procedure</td>\n      <td>float64</td>\n      <td>5</td>\n      <td>0</td>\n      <td>0.000000</td>\n      <td>0.651094</td>\n      <td>1.435</td>\n    </tr>\n    <tr>\n      <td>18</td>\n      <td>question_type_reason_explanation</td>\n      <td>float64</td>\n      <td>5</td>\n      <td>0</td>\n      <td>0.000000</td>\n      <td>0.404014</td>\n      <td>2.001</td>\n    </tr>\n    <tr>\n      <td>19</td>\n      <td>question_type_spelling</td>\n      <td>float64</td>\n      <td>3</td>\n      <td>0</td>\n      <td>0.000000</td>\n      <td>0.998190</td>\n      <td>0.021</td>\n    </tr>\n    <tr>\n      <td>20</td>\n      <td>question_well_written</td>\n      <td>float64</td>\n      <td>9</td>\n      <td>0</td>\n      <td>1.000000</td>\n      <td>0.266327</td>\n      <td>2.659</td>\n    </tr>\n    <tr>\n      <td>21</td>\n      <td>answer_helpful</td>\n      <td>float64</td>\n      <td>9</td>\n      <td>0</td>\n      <td>1.000000</td>\n      <td>0.608817</td>\n      <td>1.719</td>\n    </tr>\n    <tr>\n      <td>22</td>\n      <td>answer_level_of_information</td>\n      <td>float64</td>\n      <td>9</td>\n      <td>0</td>\n      <td>0.666667</td>\n      <td>0.676756</td>\n      <td>1.782</td>\n    </tr>\n    <tr>\n      <td>23</td>\n      <td>answer_plausible</td>\n      <td>float64</td>\n      <td>9</td>\n      <td>0</td>\n      <td>1.000000</td>\n      <td>0.774798</td>\n      <td>1.182</td>\n    </tr>\n    <tr>\n      <td>24</td>\n      <td>answer_relevance</td>\n      <td>float64</td>\n      <td>9</td>\n      <td>0</td>\n      <td>1.000000</td>\n      <td>0.808192</td>\n      <td>1.027</td>\n    </tr>\n    <tr>\n      <td>25</td>\n      <td>answer_satisfaction</td>\n      <td>float64</td>\n      <td>17</td>\n      <td>0</td>\n      <td>1.000000</td>\n      <td>0.207600</td>\n      <td>2.998</td>\n    </tr>\n    <tr>\n      <td>26</td>\n      <td>answer_type_instructions</td>\n      <td>float64</td>\n      <td>5</td>\n      <td>0</td>\n      <td>0.000000</td>\n      <td>0.369140</td>\n      <td>1.988</td>\n    </tr>\n    <tr>\n      <td>27</td>\n      <td>answer_type_procedure</td>\n      <td>float64</td>\n      <td>5</td>\n      <td>0</td>\n      <td>0.000000</td>\n      <td>0.704228</td>\n      <td>1.262</td>\n    </tr>\n    <tr>\n      <td>28</td>\n      <td>answer_type_reason_explanation</td>\n      <td>float64</td>\n      <td>5</td>\n      <td>0</td>\n      <td>1.000000</td>\n      <td>0.312387</td>\n      <td>2.059</td>\n    </tr>\n    <tr>\n      <td>29</td>\n      <td>answer_well_written</td>\n      <td>float64</td>\n      <td>9</td>\n      <td>0</td>\n      <td>1.000000</td>\n      <td>0.433295</td>\n      <td>1.867</td>\n    </tr>\n  </tbody>\n</table>\n</div>",
      "text/plain": "                                     Name    dtype  Unique  Missing      Mode  \\\n0     question_asker_intent_understanding  float64       9        0  1.000000   \n1                  question_body_critical  float64       9        0  0.333333   \n2                 question_conversational  float64       5        0  0.000000   \n3            question_expect_short_answer  float64       5        0  1.000000   \n4                   question_fact_seeking  float64       5        0  1.000000   \n5   question_has_commonly_accepted_answer  float64       5        0  1.000000   \n6         question_interestingness_others  float64       9        0  0.666667   \n7           question_interestingness_self  float64       9        0  0.333333   \n8                   question_multi_intent  float64       5        0  0.000000   \n9          question_not_really_a_question  float64       5        0  0.000000   \n10               question_opinion_seeking  float64       5        0  0.000000   \n11                   question_type_choice  float64       5        0  0.000000   \n12                  question_type_compare  float64       5        0  0.000000   \n13              question_type_consequence  float64       5        0  0.000000   \n14               question_type_definition  float64       5        0  0.000000   \n15                   question_type_entity  float64       5        0  0.000000   \n16             question_type_instructions  float64       5        0  0.000000   \n17                question_type_procedure  float64       5        0  0.000000   \n18       question_type_reason_explanation  float64       5        0  0.000000   \n19                 question_type_spelling  float64       3        0  0.000000   \n20                  question_well_written  float64       9        0  1.000000   \n21                         answer_helpful  float64       9        0  1.000000   \n22            answer_level_of_information  float64       9        0  0.666667   \n23                       answer_plausible  float64       9        0  1.000000   \n24                       answer_relevance  float64       9        0  1.000000   \n25                    answer_satisfaction  float64      17        0  1.000000   \n26               answer_type_instructions  float64       5        0  0.000000   \n27                  answer_type_procedure  float64       5        0  0.000000   \n28         answer_type_reason_explanation  float64       5        0  1.000000   \n29                    answer_well_written  float64       9        0  1.000000   \n\n    Mode Freq  Entropy  \n0    0.466031    2.020  \n1    0.247738    2.839  \n2    0.889785    0.673  \n3    0.482974    1.958  \n4    0.572463    1.647  \n5    0.669683    1.524  \n6    0.301201    2.462  \n7    0.349400    2.559  \n8    0.594999    1.666  \n9    0.989143    0.100  \n10   0.323079    2.096  \n11   0.553216    1.762  \n12   0.929758    0.480  \n13   0.978450    0.180  \n14   0.943412    0.403  \n15   0.879750    0.726  \n16   0.357131    1.984  \n17   0.651094    1.435  \n18   0.404014    2.001  \n19   0.998190    0.021  \n20   0.266327    2.659  \n21   0.608817    1.719  \n22   0.676756    1.782  \n23   0.774798    1.182  \n24   0.808192    1.027  \n25   0.207600    2.998  \n26   0.369140    1.988  \n27   0.704228    1.262  \n28   0.312387    2.059  \n29   0.433295    1.867  "
     },
     "execution_count": 21,
     "metadata": {},
     "output_type": "execute_result"
    }
   ],
   "source": [
    "summary_target = get_summary(train_set[target_cols])\n",
    "summary_target"
   ]
  },
  {
   "cell_type": "code",
   "execution_count": null,
   "metadata": {},
   "outputs": [],
   "source": []
  }
 ]
}